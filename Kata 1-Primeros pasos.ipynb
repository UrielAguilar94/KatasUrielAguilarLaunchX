{
 "cells": [
  {
   "cell_type": "markdown",
   "metadata": {},
   "source": [
    "MI PRIMER PROGRAMA"
   ]
  },
  {
   "cell_type": "code",
   "execution_count": 9,
   "metadata": {},
   "outputs": [
    {
     "name": "stdout",
     "output_type": "stream",
     "text": [
      "Today's date is:\n",
      "2022-02-15\n"
     ]
    }
   ],
   "source": [
    "#Importamos de la biblioteca\n",
    "from datetime import date\n",
    "\n",
    "#Obtenemos la fecha de hoy\n",
    "date.today()\n",
    "\n",
    "#Mostramos la fecha en la consola\n",
    "print (\"Today's date is:\")\n",
    "print (date.today())\n"
   ]
  },
  {
   "cell_type": "markdown",
   "metadata": {},
   "source": [
    "CONVERTIDOR DE UNIDADES"
   ]
  },
  {
   "cell_type": "code",
   "execution_count": 10,
   "metadata": {},
   "outputs": [
    {
     "name": "stdout",
     "output_type": "stream",
     "text": [
      "11 parsec, is 35.877159999999996 lightyears\n"
     ]
    }
   ],
   "source": [
    "parsec = 11\n",
    "\n",
    "lightyears =   parsec*3.26156\n",
    "\n",
    "print(str(parsec) + \" parsec, is \" + str(lightyears) + \" lightyears\")"
   ]
  }
 ],
 "metadata": {
  "interpreter": {
   "hash": "8f671692fb91eb36603e56e754f6c7d4f591800c84906bd0b4efac68a3aa00d8"
  },
  "kernelspec": {
   "display_name": "Python 3.10.2 64-bit",
   "language": "python",
   "name": "python3"
  },
  "language_info": {
   "codemirror_mode": {
    "name": "ipython",
    "version": 3
   },
   "file_extension": ".py",
   "mimetype": "text/x-python",
   "name": "python",
   "nbconvert_exporter": "python",
   "pygments_lexer": "ipython3",
   "version": "3.10.2"
  },
  "orig_nbformat": 4
 },
 "nbformat": 4,
 "nbformat_minor": 2
}
