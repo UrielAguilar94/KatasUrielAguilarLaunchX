{
 "cells": [
  {
   "cell_type": "markdown",
   "metadata": {},
   "source": [
    "*Ejercicio - Crear un paquete*"
   ]
  },
  {
   "cell_type": "markdown",
   "metadata": {},
   "source": [
    "Microsoft Windows [Versión 10.0.19044.1526]\n",
    "(c) Microsoft Corporation. Todos los derechos reservados.\n",
    "\n",
    "C:\\Users\\Uriel>python3 -m venv env\n",
    "No se encontr¾ Python; ejecuta sin argumentos para instalar desde Microsoft Store o deshabilita este acceso directo en Configuraci¾n > Administrar alias de ejecuci¾n de la aplicaci¾n.\n",
    "\n",
    "C:\\Users\\Uriel>cd Documents/LaunchX/Venv\n",
    "\n",
    "C:\\Users\\Uriel\\Documents\\LaunchX\\Venv>python3 -m venv env\n",
    "No se encontr¾ Python; ejecuta sin argumentos para instalar desde Microsoft Store o deshabilita este acceso directo en Configuraci¾n > Administrar alias de ejecuci¾n de la aplicaci¾n.\n",
    "\n",
    "C:\\Users\\Uriel\\Documents\\LaunchX\\Venv>python -m venv env\n",
    "\n",
    "C:\\Users\\Uriel\\Documents\\LaunchX\\Venv>source env/bin/activate\n",
    "\"source\" no se reconoce como un comando interno o externo,\n",
    "programa o archivo por lotes ejecutable.\n",
    "\n",
    "C:\\Users\\Uriel\\Documents\\LaunchX\\Venv>env\\bin\\activate\n",
    "El sistema no puede encontrar la ruta especificada.\n",
    "\n",
    "C:\\Users\\Uriel\\Documents\\LaunchX\\Venv>python3 -m venv env\n",
    "No se encontr¾ Python; ejecuta sin argumentos para instalar desde Microsoft Store o deshabilita este acceso directo en Configuraci¾n > Administrar alias de ejecuci¾n de la aplicaci¾n.\n",
    "\n",
    "C:\\Users\\Uriel\\Documents\\LaunchX\\Venv>python -m venv env\n",
    "\n",
    "C:\\Users\\Uriel\\Documents\\LaunchX\\Venv>source env/bin/activate\n",
    "\"source\" no se reconoce como un comando interno o externo,\n",
    "programa o archivo por lotes ejecutable.\n",
    "\n",
    "C:\\Users\\Uriel\\Documents\\LaunchX\\Venv>env\\bin\\activate\n",
    "El sistema no puede encontrar la ruta especificada.\n",
    "\n",
    "C:\\Users\\Uriel\\Documents\\LaunchX\\Venv>\n",
    "C:\\Users\\Uriel\\Documents\\LaunchX\\Venv>\n",
    "C:\\Users\\Uriel\\Documents\\LaunchX\\Venv>env\\Scripts\\activate\n",
    "\n",
    "(env) C:\\Users\\Uriel\\Documents\\LaunchX\\Venv>pip freeze\n",
    "\n",
    "(env) C:\\Users\\Uriel\\Documents\\LaunchX\\Venv>pip install python-dateutil\n",
    "Collecting python-dateutil\n",
    "  Using cached python_dateutil-2.8.2-py2.py3-none-any.whl (247 kB)\n",
    "Collecting six>=1.5\n",
    "  Using cached six-1.16.0-py2.py3-none-any.whl (11 kB)\n",
    "Installing collected packages: six, python-dateutil\n",
    "Successfully installed python-dateutil-2.8.2 six-1.16.0\n",
    "WARNING: You are using pip version 21.2.4; however, version 22.0.3 is available.\n",
    "You should consider upgrading via the 'C:\\Users\\Uriel\\Documents\\LaunchX\\Venv\\env\\Scripts\\python.exe -m pip install --upgrade pip' command.\n",
    "\n",
    "(env) C:\\Users\\Uriel\\Documents\\LaunchX\\Venv>pip freeze\n",
    "python-dateutil==2.8.2\n",
    "six==1.16.0\n",
    "\n",
    "(env) C:\\Users\\Uriel\\Documents\\LaunchX\\Venv>deactivate\n",
    "\n",
    "C:\\Users\\Uriel\\Documents\\LaunchX\\Venv>\n"
   ]
  }
 ],
 "metadata": {
  "interpreter": {
   "hash": "8f671692fb91eb36603e56e754f6c7d4f591800c84906bd0b4efac68a3aa00d8"
  },
  "kernelspec": {
   "display_name": "Python 3.10.2 64-bit",
   "language": "python",
   "name": "python3"
  },
  "language_info": {
   "name": "python",
   "version": "3.10.2"
  },
  "orig_nbformat": 4
 },
 "nbformat": 4,
 "nbformat_minor": 2
}
