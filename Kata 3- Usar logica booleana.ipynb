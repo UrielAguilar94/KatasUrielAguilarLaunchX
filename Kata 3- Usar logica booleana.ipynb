{
 "cells": [
  {
   "cell_type": "markdown",
   "metadata": {},
   "source": [
    "Ejercicio - Escribir declaraciones if, else, y elif"
   ]
  },
  {
   "cell_type": "code",
   "execution_count": 10,
   "metadata": {},
   "outputs": [
    {
     "name": "stdout",
     "output_type": "stream",
     "text": [
      "¡Un Asteroride se acerca peligrosamente a la Tierra!\n"
     ]
    }
   ],
   "source": [
    "#PROBLEMA 1\n",
    "\n",
    "# Añadir el código necesario para crear una variable que guarde la velocidad del asteroide.\n",
    "# Escribe una expresión de prueba para calcular si necesita una advertencia.\n",
    "# Agregue las instrucciones que se ejecutarán si la expresión de prueba es true o false.\n",
    "\n",
    "asteroide = 25\n",
    "\n",
    "if asteroide >= 25:\n",
    "    print ('¡Un Asteroride se acerca peligrosamente a la Tierra!')\n",
    "\n",
    "else: \n",
    "    print('No es mayor peligro')"
   ]
  },
  {
   "cell_type": "code",
   "execution_count": 15,
   "metadata": {},
   "outputs": [
    {
     "name": "stdout",
     "output_type": "stream",
     "text": [
      "Continua con tu vida\n"
     ]
    }
   ],
   "source": [
    "#PROBLEMA 2\n",
    "\n",
    "# Agrega el código para crear una variable para un asteroide que viaja a 19 km/s\n",
    "# Escribe varias expresiones de prueba para determinar si puedes ver el rayo de luz desde la tierra\n",
    "# Agrega las instrucciones que se ejecutarán si las expresiones de prueba son True o False\n",
    "\n",
    "asteroide = 19\n",
    "\n",
    "if asteroide > 20:\n",
    "    print ('Observen el cielo, ¿Pueden ver algo?')\n",
    "\n",
    "elif asteroide ==20: \n",
    "    print ('Observen el cielo, ¿Pueden ver algo?')\n",
    "\n",
    "else:\n",
    "    print ('Continua con tu vida')\n",
    "\n"
   ]
  },
  {
   "cell_type": "code",
   "execution_count": 19,
   "metadata": {},
   "outputs": [
    {
     "name": "stdout",
     "output_type": "stream",
     "text": [
      "¡Alerta, Un asteroide muy peligroso viene hacia la Tierra!\n"
     ]
    }
   ],
   "source": [
    "#PROBLEMA 3\n",
    "\n",
    "# Agrega el código para crear nuevas variables para la velocidad y el tamaño del asteroide\n",
    "# Para probar el código, prueba con varias velocidades y tamaños\n",
    "# Escribe varias expresiones de prueba o combinaciones de expresiones de prueba para determinar qué mensaje se debe\n",
    "\n",
    "v_asteroide = 25\n",
    "t_asteroide = 50\n",
    "\n",
    "if v_asteroide >= 25 and t_asteroide > 25:\n",
    "    print ('¡Alerta, Un asteroide muy peligroso viene hacia la Tierra!')\n",
    "\n",
    "elif v_asteroide >= 20:\n",
    "    print ('Observen el cielo, ¿Pueden ver algo?')\n",
    "\n",
    "elif t_asteroide < 25:\n",
    "    print ('Continua con tu vida')\n",
    "\n",
    "else:\n",
    "    print('Continua con tu vida')"
   ]
  }
 ],
 "metadata": {
  "interpreter": {
   "hash": "8f671692fb91eb36603e56e754f6c7d4f591800c84906bd0b4efac68a3aa00d8"
  },
  "kernelspec": {
   "display_name": "Python 3.10.2 64-bit",
   "language": "python",
   "name": "python3"
  },
  "language_info": {
   "codemirror_mode": {
    "name": "ipython",
    "version": 3
   },
   "file_extension": ".py",
   "mimetype": "text/x-python",
   "name": "python",
   "nbconvert_exporter": "python",
   "pygments_lexer": "ipython3",
   "version": "3.10.2"
  },
  "orig_nbformat": 4
 },
 "nbformat": 4,
 "nbformat_minor": 2
}
