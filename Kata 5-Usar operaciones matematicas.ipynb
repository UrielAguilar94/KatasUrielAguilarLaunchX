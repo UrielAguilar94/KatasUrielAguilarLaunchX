{
 "cells": [
  {
   "cell_type": "markdown",
   "metadata": {},
   "source": [
    "Ejercicio1 - Utilizar operadores aritméticos"
   ]
  },
  {
   "cell_type": "code",
   "execution_count": 2,
   "metadata": {},
   "outputs": [
    {
     "name": "stdout",
     "output_type": "stream",
     "text": [
      "La distancia entre la tierra y Jupiter es:\n",
      "628949330 km\n",
      "en millas la distancia es\n",
      "390577533.93 mill\n"
     ]
    }
   ],
   "source": [
    "D_Tierra = 149597870  #km\n",
    "D_Jupiter = 778547200  #km\n",
    "\n",
    "D_Tierra_Jupiter = D_Jupiter-D_Tierra\n",
    "\n",
    "print ('La distancia entre la tierra y Jupiter es:')\n",
    "print ((D_Tierra_Jupiter), 'km')\n",
    "\n",
    "print ('en millas la distancia es')\n",
    "DM_Tierra_jupiter = D_Tierra_Jupiter*0.621\n",
    "\n",
    "print ((DM_Tierra_jupiter),'mill')"
   ]
  },
  {
   "cell_type": "markdown",
   "metadata": {},
   "source": [
    "Ejercicio 2: convierte cadenas en números y usa valores absolutos"
   ]
  },
  {
   "cell_type": "code",
   "execution_count": 4,
   "metadata": {},
   "outputs": [
    {
     "name": "stdout",
     "output_type": "stream",
     "text": [
      "628949330\n",
      "390577533.93\n"
     ]
    }
   ],
   "source": [
    "# Almacenar las entradas del usuario\n",
    "\n",
    "primer_planeta = input (\"Indica cual  es la distancia del sol para el primer planeta en KM\")\n",
    "segundo_planeta = input (\"Indica la distancia al sol del segundo planeta en KM\")\n",
    "\n",
    "# Convierte las cadenas de ambos planetas a números enteros\n",
    "primer_planeta = int(primer_planeta)\n",
    "segundo_planeta = int(segundo_planeta)\n",
    "\n",
    "# Realizar el cálculo y determinar el valor absoluto\n",
    "distancia_km = primer_planeta-segundo_planeta\n",
    "print(abs(distancia_km))\n",
    "\n",
    "# Convertir de KM a Millas\n",
    "distancia_mi = distancia_km * 0.621\n",
    "print(abs(distancia_mi))"
   ]
  }
 ],
 "metadata": {
  "interpreter": {
   "hash": "8f671692fb91eb36603e56e754f6c7d4f591800c84906bd0b4efac68a3aa00d8"
  },
  "kernelspec": {
   "display_name": "Python 3.10.2 64-bit",
   "language": "python",
   "name": "python3"
  },
  "language_info": {
   "codemirror_mode": {
    "name": "ipython",
    "version": 3
   },
   "file_extension": ".py",
   "mimetype": "text/x-python",
   "name": "python",
   "nbconvert_exporter": "python",
   "pygments_lexer": "ipython3",
   "version": "3.10.2"
  },
  "orig_nbformat": 4
 },
 "nbformat": 4,
 "nbformat_minor": 2
}
